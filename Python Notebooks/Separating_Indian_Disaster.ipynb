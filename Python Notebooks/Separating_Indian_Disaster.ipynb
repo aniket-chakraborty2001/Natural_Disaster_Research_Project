{
 "cells": [
  {
   "cell_type": "code",
   "execution_count": 1,
   "id": "e9cdde81",
   "metadata": {},
   "outputs": [],
   "source": [
    "# Importing Required Packages\n",
    "\n",
    "import numpy as np\n",
    "import pandas as pd"
   ]
  },
  {
   "cell_type": "code",
   "execution_count": 2,
   "id": "e664e95f",
   "metadata": {},
   "outputs": [
    {
     "data": {
      "text/html": [
       "<div>\n",
       "<style scoped>\n",
       "    .dataframe tbody tr th:only-of-type {\n",
       "        vertical-align: middle;\n",
       "    }\n",
       "\n",
       "    .dataframe tbody tr th {\n",
       "        vertical-align: top;\n",
       "    }\n",
       "\n",
       "    .dataframe thead th {\n",
       "        text-align: right;\n",
       "    }\n",
       "</style>\n",
       "<table border=\"1\" class=\"dataframe\">\n",
       "  <thead>\n",
       "    <tr style=\"text-align: right;\">\n",
       "      <th></th>\n",
       "      <th>Year</th>\n",
       "      <th>Country</th>\n",
       "      <th>ISO</th>\n",
       "      <th>Disaster Type</th>\n",
       "      <th>Disaster Subtype</th>\n",
       "      <th>Location</th>\n",
       "      <th>Total Deaths</th>\n",
       "      <th>No. Injured</th>\n",
       "      <th>No. Homeless</th>\n",
       "      <th>Total Affected</th>\n",
       "    </tr>\n",
       "  </thead>\n",
       "  <tbody>\n",
       "    <tr>\n",
       "      <th>0</th>\n",
       "      <td>2000</td>\n",
       "      <td>India</td>\n",
       "      <td>IND</td>\n",
       "      <td>Storm</td>\n",
       "      <td>Tropical cyclone</td>\n",
       "      <td>Andhra Pradesh province</td>\n",
       "      <td>NaN</td>\n",
       "      <td>NaN</td>\n",
       "      <td>NaN</td>\n",
       "      <td>NaN</td>\n",
       "    </tr>\n",
       "    <tr>\n",
       "      <th>1</th>\n",
       "      <td>2000</td>\n",
       "      <td>India</td>\n",
       "      <td>IND</td>\n",
       "      <td>Storm</td>\n",
       "      <td>Tropical cyclone</td>\n",
       "      <td>Nagappattinam, Thanjavur, Sirkali, Papanasam, ...</td>\n",
       "      <td>NaN</td>\n",
       "      <td>NaN</td>\n",
       "      <td>30000.0</td>\n",
       "      <td>30000.0</td>\n",
       "    </tr>\n",
       "    <tr>\n",
       "      <th>2</th>\n",
       "      <td>2001</td>\n",
       "      <td>India</td>\n",
       "      <td>IND</td>\n",
       "      <td>Storm</td>\n",
       "      <td>Lightning/Thunderstorms</td>\n",
       "      <td>Uttar Pradesh province</td>\n",
       "      <td>21.0</td>\n",
       "      <td>NaN</td>\n",
       "      <td>NaN</td>\n",
       "      <td>NaN</td>\n",
       "    </tr>\n",
       "    <tr>\n",
       "      <th>3</th>\n",
       "      <td>2001</td>\n",
       "      <td>India</td>\n",
       "      <td>IND</td>\n",
       "      <td>Storm</td>\n",
       "      <td>Tropical cyclone</td>\n",
       "      <td>Andhra Pradesh province</td>\n",
       "      <td>78.0</td>\n",
       "      <td>NaN</td>\n",
       "      <td>25000.0</td>\n",
       "      <td>27000.0</td>\n",
       "    </tr>\n",
       "    <tr>\n",
       "      <th>4</th>\n",
       "      <td>2001</td>\n",
       "      <td>India</td>\n",
       "      <td>IND</td>\n",
       "      <td>Storm</td>\n",
       "      <td>Tropical cyclone</td>\n",
       "      <td>Gujarat, Goa, Maharashtra, Kerala provinces</td>\n",
       "      <td>NaN</td>\n",
       "      <td>NaN</td>\n",
       "      <td>NaN</td>\n",
       "      <td>NaN</td>\n",
       "    </tr>\n",
       "  </tbody>\n",
       "</table>\n",
       "</div>"
      ],
      "text/plain": [
       "   Year Country  ISO Disaster Type         Disaster Subtype  \\\n",
       "0  2000   India  IND         Storm         Tropical cyclone   \n",
       "1  2000   India  IND         Storm         Tropical cyclone   \n",
       "2  2001   India  IND         Storm  Lightning/Thunderstorms   \n",
       "3  2001   India  IND         Storm         Tropical cyclone   \n",
       "4  2001   India  IND         Storm         Tropical cyclone   \n",
       "\n",
       "                                            Location  Total Deaths  \\\n",
       "0                            Andhra Pradesh province           NaN   \n",
       "1  Nagappattinam, Thanjavur, Sirkali, Papanasam, ...           NaN   \n",
       "2                             Uttar Pradesh province          21.0   \n",
       "3                            Andhra Pradesh province          78.0   \n",
       "4        Gujarat, Goa, Maharashtra, Kerala provinces           NaN   \n",
       "\n",
       "   No. Injured  No. Homeless  Total Affected  \n",
       "0          NaN           NaN             NaN  \n",
       "1          NaN       30000.0         30000.0  \n",
       "2          NaN           NaN             NaN  \n",
       "3          NaN       25000.0         27000.0  \n",
       "4          NaN           NaN             NaN  "
      ]
     },
     "execution_count": 2,
     "metadata": {},
     "output_type": "execute_result"
    }
   ],
   "source": [
    "# Reading the 'India_Disaster.csv' file as india_df\n",
    "\n",
    "india_df = pd.read_csv('India_Disaster.csv')\n",
    "india_df.head()"
   ]
  },
  {
   "cell_type": "code",
   "execution_count": 3,
   "id": "fd5b26a6",
   "metadata": {},
   "outputs": [
    {
     "data": {
      "text/plain": [
       "array(['Storm', 'Flood', 'Earthquake', 'Drought'], dtype=object)"
      ]
     },
     "execution_count": 3,
     "metadata": {},
     "output_type": "execute_result"
    }
   ],
   "source": [
    "# Select the Unique Disaster Type to know type of disasters\n",
    "\n",
    "india_df['Disaster Type'].unique()"
   ]
  },
  {
   "cell_type": "code",
   "execution_count": 4,
   "id": "f9d78212",
   "metadata": {},
   "outputs": [
    {
     "data": {
      "text/plain": [
       "(276, 10)"
      ]
     },
     "execution_count": 4,
     "metadata": {},
     "output_type": "execute_result"
    }
   ],
   "source": [
    "# Get the shape of the india_df data frame\n",
    "\n",
    "india_df.shape"
   ]
  },
  {
   "cell_type": "code",
   "execution_count": 5,
   "id": "a572bd6c",
   "metadata": {},
   "outputs": [
    {
     "data": {
      "text/plain": [
       "(85, 10)"
      ]
     },
     "execution_count": 5,
     "metadata": {},
     "output_type": "execute_result"
    }
   ],
   "source": [
    "# Extracting the Data for Srtorm in India as storm_df\n",
    "\n",
    "storm_df = india_df[india_df['Disaster Type'] == 'Storm']\n",
    "storm_df.shape"
   ]
  },
  {
   "cell_type": "code",
   "execution_count": 6,
   "id": "e2daafce",
   "metadata": {},
   "outputs": [
    {
     "data": {
      "text/plain": [
       "(10, 10)"
      ]
     },
     "execution_count": 6,
     "metadata": {},
     "output_type": "execute_result"
    }
   ],
   "source": [
    "# Extracting the Data for Earthquake in India as earth_df\n",
    "\n",
    "earth_df = india_df[india_df['Disaster Type'] == 'Earthquake']\n",
    "earth_df.shape"
   ]
  },
  {
   "cell_type": "code",
   "execution_count": 7,
   "id": "ad363a7b",
   "metadata": {},
   "outputs": [
    {
     "data": {
      "text/plain": [
       "(176, 10)"
      ]
     },
     "execution_count": 7,
     "metadata": {},
     "output_type": "execute_result"
    }
   ],
   "source": [
    "# Extracting the Data for Flood in India as flood_df\n",
    "\n",
    "flood_df = india_df[india_df['Disaster Type'] == 'Flood']\n",
    "flood_df.shape"
   ]
  },
  {
   "cell_type": "code",
   "execution_count": 8,
   "id": "e430ec6b",
   "metadata": {},
   "outputs": [
    {
     "data": {
      "text/plain": [
       "(5, 10)"
      ]
     },
     "execution_count": 8,
     "metadata": {},
     "output_type": "execute_result"
    }
   ],
   "source": [
    "# Extracting the data for Drought as drought_df\n",
    "\n",
    "drought_df = india_df[india_df['Disaster Type'] == 'Drought']\n",
    "drought_df.shape"
   ]
  },
  {
   "cell_type": "code",
   "execution_count": 9,
   "id": "e6eb072a",
   "metadata": {},
   "outputs": [
    {
     "data": {
      "text/html": [
       "<div>\n",
       "<style scoped>\n",
       "    .dataframe tbody tr th:only-of-type {\n",
       "        vertical-align: middle;\n",
       "    }\n",
       "\n",
       "    .dataframe tbody tr th {\n",
       "        vertical-align: top;\n",
       "    }\n",
       "\n",
       "    .dataframe thead th {\n",
       "        text-align: right;\n",
       "    }\n",
       "</style>\n",
       "<table border=\"1\" class=\"dataframe\">\n",
       "  <thead>\n",
       "    <tr style=\"text-align: right;\">\n",
       "      <th></th>\n",
       "      <th>Storm</th>\n",
       "      <th>Earthquake</th>\n",
       "      <th>Flood</th>\n",
       "      <th>Drought</th>\n",
       "    </tr>\n",
       "  </thead>\n",
       "  <tbody>\n",
       "    <tr>\n",
       "      <th>0</th>\n",
       "      <td>85</td>\n",
       "      <td>10</td>\n",
       "      <td>176</td>\n",
       "      <td>5</td>\n",
       "    </tr>\n",
       "  </tbody>\n",
       "</table>\n",
       "</div>"
      ],
      "text/plain": [
       "   Storm  Earthquake  Flood  Drought\n",
       "0     85          10    176        5"
      ]
     },
     "execution_count": 9,
     "metadata": {},
     "output_type": "execute_result"
    }
   ],
   "source": [
    "# There are 85 storms, 10 earthquakes, 176 floods and 5 drought events in India\n",
    "\n",
    "summary_dict = {'Storm':[85],'Earthquake':[10],'Flood':[176],'Drought':[5]}\n",
    "summary_df = pd.DataFrame(summary_dict)\n",
    "summary_df"
   ]
  },
  {
   "cell_type": "code",
   "execution_count": 10,
   "id": "96249f4c",
   "metadata": {},
   "outputs": [
    {
     "data": {
      "image/png": "[encoded data removed]",
      "text/plain": [
       "<Figure size 600x400 with 1 Axes>"
      ]
     },
     "metadata": {},
     "output_type": "display_data"
    }
   ],
   "source": [
    "# Plot the Information using Matplotlib\n",
    "\n",
    "import matplotlib.pyplot as plt\n",
    "\n",
    "categories = ['Storm', 'Earthquake', 'Flood', 'Drought']\n",
    "values = [85, 10, 176, 5]\n",
    "\n",
    "# Create a bar plot\n",
    "plt.figure(figsize = (6,4))\n",
    "plt.bar(categories, values, color=['blue', 'orange', 'green', 'red'])\n",
    "\n",
    "# Add title and labels\n",
    "plt.title('Occurrence of Natural Disasters')\n",
    "plt.xlabel('Category')\n",
    "plt.ylabel('Frequency')\n",
    "\n",
    "# Show plot\n",
    "plt.show()"
   ]
  },
  {
   "cell_type": "code",
   "execution_count": 11,
   "id": "8a685e0d",
   "metadata": {},
   "outputs": [],
   "source": [
    "# Exporting The storm_df, earthquake_df, flood_df and drought_df\n",
    "\n",
    "name_storm = 'India_Storm.csv'\n",
    "name_flood = 'India_Flood.csv'\n",
    "name_earth = 'India_Earthquake.csv'\n",
    "name_drought = 'India_Drought.csv'\n",
    "\n",
    "storm_df.to_csv(name_storm, index = False)\n",
    "flood_df.to_csv(name_flood, index = False)\n",
    "earth_df.to_csv(name_earth, index = False)\n",
    "drought_df.to_csv(name_drought, index = False)"
   ]
  },
  {
   "cell_type": "code",
   "execution_count": null,
   "id": "303abc90",
   "metadata": {},
   "outputs": [],
   "source": []
  }
 ],
 "metadata": {
  "kernelspec": {
   "display_name": "Python 3 (ipykernel)",
   "language": "python",
   "name": "python3"
  },
  "language_info": {
   "codemirror_mode": {
    "name": "ipython",
    "version": 3
   },
   "file_extension": ".py",
   "mimetype": "text/x-python",
   "name": "python",
   "nbconvert_exporter": "python",
   "pygments_lexer": "ipython3",
   "version": "3.11.5"
  }
 },
 "nbformat": 4,
 "nbformat_minor": 5
}
