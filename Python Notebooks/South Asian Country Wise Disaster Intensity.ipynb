{
 "cells": [
  {
   "cell_type": "code",
   "execution_count": 1,
   "id": "3ce39d55",
   "metadata": {},
   "outputs": [],
   "source": [
    "# Importing Required Packages\n",
    "\n",
    "import numpy as np\n",
    "import pandas as pd\n",
    "import matplotlib.pyplot as plt\n",
    "import seaborn as sns\n",
    "import os\n",
    "%matplotlib inline"
   ]
  },
  {
   "cell_type": "code",
   "execution_count": 2,
   "id": "844b4742",
   "metadata": {},
   "outputs": [],
   "source": [
    "# Reading the data sets from Excel files\n",
    "\n",
    "earthquake = pd.read_excel('Research_Project_MDS6406/Datasets/earthquake_final.xlsx')\n",
    "\n",
    "storm = pd.read_excel('Research_Project_MDS6406/Datasets/storm_final.xlsx')\n",
    "\n",
    "flood = pd.read_excel('Research_Project_MDS6406/Datasets/flood_final.xlsx')"
   ]
  },
  {
   "cell_type": "markdown",
   "id": "21bb1fea",
   "metadata": {},
   "source": [
    "## EDA with earthquake data set"
   ]
  },
  {
   "cell_type": "code",
   "execution_count": 3,
   "id": "3e727022",
   "metadata": {},
   "outputs": [
    {
     "data": {
      "text/html": [
       "<div>\n",
       "<style scoped>\n",
       "    .dataframe tbody tr th:only-of-type {\n",
       "        vertical-align: middle;\n",
       "    }\n",
       "\n",
       "    .dataframe tbody tr th {\n",
       "        vertical-align: top;\n",
       "    }\n",
       "\n",
       "    .dataframe thead th {\n",
       "        text-align: right;\n",
       "    }\n",
       "</style>\n",
       "<table border=\"1\" class=\"dataframe\">\n",
       "  <thead>\n",
       "    <tr style=\"text-align: right;\">\n",
       "      <th></th>\n",
       "      <th>TDEQ</th>\n",
       "      <th>TAEQ</th>\n",
       "      <th>Country</th>\n",
       "      <th>Year</th>\n",
       "      <th>LE</th>\n",
       "      <th>PD</th>\n",
       "      <th>POP</th>\n",
       "      <th>gdp</th>\n",
       "      <th>gexp</th>\n",
       "      <th>gdpg</th>\n",
       "      <th>gr</th>\n",
       "      <th>TotalHarm</th>\n",
       "      <th>di</th>\n",
       "      <th>dic</th>\n",
       "      <th>td</th>\n",
       "      <th>dic2</th>\n",
       "    </tr>\n",
       "  </thead>\n",
       "  <tbody>\n",
       "    <tr>\n",
       "      <th>0</th>\n",
       "      <td>23</td>\n",
       "      <td>200</td>\n",
       "      <td>Bangladesh</td>\n",
       "      <td>1997</td>\n",
       "      <td>63.553</td>\n",
       "      <td>923.104894</td>\n",
       "      <td>120160564</td>\n",
       "      <td>401.498691</td>\n",
       "      <td>4.902982</td>\n",
       "      <td>0.017180</td>\n",
       "      <td>0.007398</td>\n",
       "      <td>223</td>\n",
       "      <td>1.855850e-06</td>\n",
       "      <td>0</td>\n",
       "      <td>24</td>\n",
       "      <td>0</td>\n",
       "    </tr>\n",
       "    <tr>\n",
       "      <th>1</th>\n",
       "      <td>6</td>\n",
       "      <td>15200</td>\n",
       "      <td>Bangladesh</td>\n",
       "      <td>1999</td>\n",
       "      <td>64.881</td>\n",
       "      <td>961.739656</td>\n",
       "      <td>125189651</td>\n",
       "      <td>409.543197</td>\n",
       "      <td>5.039615</td>\n",
       "      <td>0.005189</td>\n",
       "      <td>0.002248</td>\n",
       "      <td>15206</td>\n",
       "      <td>1.214637e-04</td>\n",
       "      <td>0</td>\n",
       "      <td>7</td>\n",
       "      <td>1</td>\n",
       "    </tr>\n",
       "    <tr>\n",
       "      <th>2</th>\n",
       "      <td>0</td>\n",
       "      <td>1000</td>\n",
       "      <td>Bangladesh</td>\n",
       "      <td>2000</td>\n",
       "      <td>65.447</td>\n",
       "      <td>980.701037</td>\n",
       "      <td>127657854</td>\n",
       "      <td>418.068968</td>\n",
       "      <td>4.973121</td>\n",
       "      <td>0.020818</td>\n",
       "      <td>0.008948</td>\n",
       "      <td>1000</td>\n",
       "      <td>7.833439e-06</td>\n",
       "      <td>0</td>\n",
       "      <td>1</td>\n",
       "      <td>0</td>\n",
       "    </tr>\n",
       "    <tr>\n",
       "      <th>3</th>\n",
       "      <td>2</td>\n",
       "      <td>2525</td>\n",
       "      <td>Bangladesh</td>\n",
       "      <td>2003</td>\n",
       "      <td>66.886</td>\n",
       "      <td>1035.504364</td>\n",
       "      <td>134791603</td>\n",
       "      <td>446.310659</td>\n",
       "      <td>5.128299</td>\n",
       "      <td>0.080445</td>\n",
       "      <td>0.033603</td>\n",
       "      <td>2527</td>\n",
       "      <td>1.874746e-05</td>\n",
       "      <td>0</td>\n",
       "      <td>3</td>\n",
       "      <td>0</td>\n",
       "    </tr>\n",
       "    <tr>\n",
       "      <th>4</th>\n",
       "      <td>2</td>\n",
       "      <td>0</td>\n",
       "      <td>Bangladesh</td>\n",
       "      <td>2004</td>\n",
       "      <td>67.331</td>\n",
       "      <td>1052.365614</td>\n",
       "      <td>136986432</td>\n",
       "      <td>475.291920</td>\n",
       "      <td>5.174383</td>\n",
       "      <td>0.064935</td>\n",
       "      <td>0.027323</td>\n",
       "      <td>2</td>\n",
       "      <td>1.459999e-08</td>\n",
       "      <td>0</td>\n",
       "      <td>3</td>\n",
       "      <td>0</td>\n",
       "    </tr>\n",
       "  </tbody>\n",
       "</table>\n",
       "</div>"
      ],
      "text/plain": [
       "   TDEQ   TAEQ     Country  Year      LE           PD        POP         gdp  \\\n",
       "0    23    200  Bangladesh  1997  63.553   923.104894  120160564  401.498691   \n",
       "1     6  15200  Bangladesh  1999  64.881   961.739656  125189651  409.543197   \n",
       "2     0   1000  Bangladesh  2000  65.447   980.701037  127657854  418.068968   \n",
       "3     2   2525  Bangladesh  2003  66.886  1035.504364  134791603  446.310659   \n",
       "4     2      0  Bangladesh  2004  67.331  1052.365614  136986432  475.291920   \n",
       "\n",
       "       gexp      gdpg        gr  TotalHarm            di  dic  td  dic2  \n",
       "0  4.902982  0.017180  0.007398        223  1.855850e-06    0  24     0  \n",
       "1  5.039615  0.005189  0.002248      15206  1.214637e-04    0   7     1  \n",
       "2  4.973121  0.020818  0.008948       1000  7.833439e-06    0   1     0  \n",
       "3  5.128299  0.080445  0.033603       2527  1.874746e-05    0   3     0  \n",
       "4  5.174383  0.064935  0.027323          2  1.459999e-08    0   3     0  "
      ]
     },
     "execution_count": 3,
     "metadata": {},
     "output_type": "execute_result"
    }
   ],
   "source": [
    "# Read first few rows of earthquake\n",
    "\n",
    "earthquake.head()"
   ]
  },
  {
   "cell_type": "code",
   "execution_count": 4,
   "id": "81665836",
   "metadata": {},
   "outputs": [
    {
     "data": {
      "text/plain": [
       "Index(['TDEQ', 'TAEQ', 'Country', 'Year', 'LE', 'PD', 'POP', 'gdp', 'gexp',\n",
       "       'gdpg', 'gr', 'TotalHarm', 'di', 'dic', 'td', 'dic2'],\n",
       "      dtype='object')"
      ]
     },
     "execution_count": 4,
     "metadata": {},
     "output_type": "execute_result"
    }
   ],
   "source": [
    "# Get the column names\n",
    "\n",
    "earthquake.columns"
   ]
  },
  {
   "cell_type": "code",
   "execution_count": 5,
   "id": "8c65a571",
   "metadata": {},
   "outputs": [
    {
     "data": {
      "text/plain": [
       "(87, 16)"
      ]
     },
     "execution_count": 5,
     "metadata": {},
     "output_type": "execute_result"
    }
   ],
   "source": [
    "# Get the shape of earth_data\n",
    "\n",
    "earthquake.shape"
   ]
  },
  {
   "cell_type": "code",
   "execution_count": 6,
   "id": "9ff4f67d",
   "metadata": {},
   "outputs": [
    {
     "data": {
      "text/plain": [
       "TDEQ         0\n",
       "TAEQ         0\n",
       "Country      0\n",
       "Year         0\n",
       "LE           0\n",
       "PD           0\n",
       "POP          0\n",
       "gdp          0\n",
       "gexp         0\n",
       "gdpg         0\n",
       "gr           0\n",
       "TotalHarm    0\n",
       "di           0\n",
       "dic          0\n",
       "td           0\n",
       "dic2         0\n",
       "dtype: int64"
      ]
     },
     "execution_count": 6,
     "metadata": {},
     "output_type": "execute_result"
    }
   ],
   "source": [
    "# Check for any missing values\n",
    "\n",
    "earthquake.isnull().sum()"
   ]
  },
  {
   "cell_type": "code",
   "execution_count": 7,
   "id": "ed78a51a",
   "metadata": {},
   "outputs": [
    {
     "data": {
      "text/plain": [
       "array(['Bangladesh', 'India', 'Indonesia', 'Iran, Islamic Rep.',\n",
       "       'Malaysia', 'Myanmar', 'Nepal', 'Pakistan', 'Philippines',\n",
       "       'Sri Lanka'], dtype=object)"
      ]
     },
     "execution_count": 7,
     "metadata": {},
     "output_type": "execute_result"
    }
   ],
   "source": [
    "# Check Unique Entries of the 'country' column\n",
    "\n",
    "earthquake['Country'].unique()"
   ]
  },
  {
   "cell_type": "code",
   "execution_count": 8,
   "id": "9b041af3",
   "metadata": {},
   "outputs": [
    {
     "data": {
      "text/plain": [
       "array(['Bangladesh', 'India', 'Iran, Islamic Rep.', 'Nepal', 'Pakistan',\n",
       "       'Sri Lanka'], dtype=object)"
      ]
     },
     "execution_count": 8,
     "metadata": {},
     "output_type": "execute_result"
    }
   ],
   "source": [
    "# Now, in the study, I consider only 9 countries that fall under south Asia.\n",
    "# So, just keep 'India', 'Bangladesh', 'Pakistan', 'Sri Lanka', 'Maldives', 'Iran', 'Bhutan', 'Afghanistan' and 'Nepal'\n",
    "\n",
    "country_remove = ['Indonesia', 'Malaysia', 'Myanmar', 'Philippines']\n",
    "\n",
    "# Filter out the rows where 'Country' is in the list of countries to remove\n",
    "\n",
    "earthquake_filtered = earthquake[~ earthquake['Country'].isin(country_remove)]\n",
    "\n",
    "# Check the Current countries under consideration\n",
    "\n",
    "earthquake_filtered['Country'].unique()"
   ]
  },
  {
   "cell_type": "code",
   "execution_count": 9,
   "id": "00ef8502",
   "metadata": {},
   "outputs": [
    {
     "name": "stdout",
     "output_type": "stream",
     "text": [
      "Country\n",
      "Bangladesh            0.000152\n",
      "India                 0.008114\n",
      "Iran, Islamic Rep.    0.006029\n",
      "Nepal                 0.006732\n",
      "Pakistan              0.001064\n",
      "Sri Lanka             0.001470\n",
      "Name: di, dtype: float64\n"
     ]
    },
    {
     "data": {
      "image/png": "[encoded data removed]",
      "text/plain": [
       "<Figure size 640x480 with 1 Axes>"
      ]
     },
     "metadata": {},
     "output_type": "display_data"
    }
   ],
   "source": [
    "# Now, plot the total disaster intensity graph for this countries\n",
    "\n",
    "total_earthquake_di = earthquake_filtered.groupby('Country')['di'].sum()\n",
    "print(total_earthquake_di)\n",
    "total_earthquake_di.plot(kind = 'bar', color = 'red', width = 0.5)\n",
    "plt.xlabel('Country Names')\n",
    "plt.ylabel('Total Disaster Intensities')\n",
    "plt.title('Country Wise Earthquake Disaster Intensity')\n",
    "plt.xticks(rotation = 45)\n",
    "plt.show()"
   ]
  },
  {
   "cell_type": "markdown",
   "id": "06faf274",
   "metadata": {},
   "source": [
    "## EDA with storm data set"
   ]
  },
  {
   "cell_type": "code",
   "execution_count": 10,
   "id": "df8493ee",
   "metadata": {},
   "outputs": [
    {
     "data": {
      "text/html": [
       "<div>\n",
       "<style scoped>\n",
       "    .dataframe tbody tr th:only-of-type {\n",
       "        vertical-align: middle;\n",
       "    }\n",
       "\n",
       "    .dataframe tbody tr th {\n",
       "        vertical-align: top;\n",
       "    }\n",
       "\n",
       "    .dataframe thead th {\n",
       "        text-align: right;\n",
       "    }\n",
       "</style>\n",
       "<table border=\"1\" class=\"dataframe\">\n",
       "  <thead>\n",
       "    <tr style=\"text-align: right;\">\n",
       "      <th></th>\n",
       "      <th>TDS</th>\n",
       "      <th>TAS</th>\n",
       "      <th>Country</th>\n",
       "      <th>Year</th>\n",
       "      <th>LE</th>\n",
       "      <th>PD</th>\n",
       "      <th>POP</th>\n",
       "      <th>TotalHarm</th>\n",
       "      <th>gdp</th>\n",
       "      <th>gexp</th>\n",
       "      <th>gdpg</th>\n",
       "      <th>gr</th>\n",
       "      <th>pcg</th>\n",
       "      <th>Total</th>\n",
       "      <th>di</th>\n",
       "      <th>dic</th>\n",
       "      <th>td</th>\n",
       "      <th>dic2</th>\n",
       "    </tr>\n",
       "  </thead>\n",
       "  <tbody>\n",
       "    <tr>\n",
       "      <th>0</th>\n",
       "      <td>674</td>\n",
       "      <td>54070</td>\n",
       "      <td>Bangladesh</td>\n",
       "      <td>1990</td>\n",
       "      <td>58.210</td>\n",
       "      <td>792.593962</td>\n",
       "      <td>103171956</td>\n",
       "      <td>2011831</td>\n",
       "      <td>306.268704</td>\n",
       "      <td>4.053250</td>\n",
       "      <td>0.071509</td>\n",
       "      <td>0.029996</td>\n",
       "      <td>3.086984</td>\n",
       "      <td>54744</td>\n",
       "      <td>0.000531</td>\n",
       "      <td>0</td>\n",
       "      <td>675</td>\n",
       "      <td>1</td>\n",
       "    </tr>\n",
       "    <tr>\n",
       "      <th>1</th>\n",
       "      <td>138987</td>\n",
       "      <td>15439149</td>\n",
       "      <td>Bangladesh</td>\n",
       "      <td>1991</td>\n",
       "      <td>58.891</td>\n",
       "      <td>811.240124</td>\n",
       "      <td>105599127</td>\n",
       "      <td>2990265</td>\n",
       "      <td>293.160416</td>\n",
       "      <td>4.136332</td>\n",
       "      <td>-0.042800</td>\n",
       "      <td>-0.018997</td>\n",
       "      <td>1.106644</td>\n",
       "      <td>15578136</td>\n",
       "      <td>0.147521</td>\n",
       "      <td>1</td>\n",
       "      <td>138988</td>\n",
       "      <td>1</td>\n",
       "    </tr>\n",
       "    <tr>\n",
       "      <th>2</th>\n",
       "      <td>23</td>\n",
       "      <td>10300</td>\n",
       "      <td>Bangladesh</td>\n",
       "      <td>1992</td>\n",
       "      <td>59.618</td>\n",
       "      <td>829.559069</td>\n",
       "      <td>107983704</td>\n",
       "      <td>75217</td>\n",
       "      <td>293.644998</td>\n",
       "      <td>4.451222</td>\n",
       "      <td>0.001653</td>\n",
       "      <td>0.000717</td>\n",
       "      <td>3.114221</td>\n",
       "      <td>10323</td>\n",
       "      <td>0.000096</td>\n",
       "      <td>0</td>\n",
       "      <td>24</td>\n",
       "      <td>0</td>\n",
       "    </tr>\n",
       "    <tr>\n",
       "      <th>3</th>\n",
       "      <td>452</td>\n",
       "      <td>868020</td>\n",
       "      <td>Bangladesh</td>\n",
       "      <td>1993</td>\n",
       "      <td>60.388</td>\n",
       "      <td>847.742483</td>\n",
       "      <td>110350639</td>\n",
       "      <td>15751807</td>\n",
       "      <td>300.555753</td>\n",
       "      <td>4.953839</td>\n",
       "      <td>0.023534</td>\n",
       "      <td>0.010102</td>\n",
       "      <td>2.465581</td>\n",
       "      <td>868472</td>\n",
       "      <td>0.007870</td>\n",
       "      <td>0</td>\n",
       "      <td>453</td>\n",
       "      <td>1</td>\n",
       "    </tr>\n",
       "    <tr>\n",
       "      <th>4</th>\n",
       "      <td>205</td>\n",
       "      <td>659009</td>\n",
       "      <td>Bangladesh</td>\n",
       "      <td>1994</td>\n",
       "      <td>61.190</td>\n",
       "      <td>866.080380</td>\n",
       "      <td>112737683</td>\n",
       "      <td>395216</td>\n",
       "      <td>299.533040</td>\n",
       "      <td>4.883159</td>\n",
       "      <td>-0.003403</td>\n",
       "      <td>-0.001480</td>\n",
       "      <td>1.690416</td>\n",
       "      <td>659214</td>\n",
       "      <td>0.005847</td>\n",
       "      <td>0</td>\n",
       "      <td>206</td>\n",
       "      <td>1</td>\n",
       "    </tr>\n",
       "  </tbody>\n",
       "</table>\n",
       "</div>"
      ],
      "text/plain": [
       "      TDS       TAS     Country  Year      LE          PD        POP  \\\n",
       "0     674     54070  Bangladesh  1990  58.210  792.593962  103171956   \n",
       "1  138987  15439149  Bangladesh  1991  58.891  811.240124  105599127   \n",
       "2      23     10300  Bangladesh  1992  59.618  829.559069  107983704   \n",
       "3     452    868020  Bangladesh  1993  60.388  847.742483  110350639   \n",
       "4     205    659009  Bangladesh  1994  61.190  866.080380  112737683   \n",
       "\n",
       "   TotalHarm         gdp      gexp      gdpg        gr       pcg     Total  \\\n",
       "0    2011831  306.268704  4.053250  0.071509  0.029996  3.086984     54744   \n",
       "1    2990265  293.160416  4.136332 -0.042800 -0.018997  1.106644  15578136   \n",
       "2      75217  293.644998  4.451222  0.001653  0.000717  3.114221     10323   \n",
       "3   15751807  300.555753  4.953839  0.023534  0.010102  2.465581    868472   \n",
       "4     395216  299.533040  4.883159 -0.003403 -0.001480  1.690416    659214   \n",
       "\n",
       "         di  dic      td  dic2  \n",
       "0  0.000531    0     675     1  \n",
       "1  0.147521    1  138988     1  \n",
       "2  0.000096    0      24     0  \n",
       "3  0.007870    0     453     1  \n",
       "4  0.005847    0     206     1  "
      ]
     },
     "execution_count": 10,
     "metadata": {},
     "output_type": "execute_result"
    }
   ],
   "source": [
    "# Read first few rows of storm\n",
    "\n",
    "storm.head()"
   ]
  },
  {
   "cell_type": "code",
   "execution_count": 11,
   "id": "5567aa28",
   "metadata": {},
   "outputs": [
    {
     "data": {
      "text/plain": [
       "Index(['TDS', 'TAS', 'Country', 'Year', 'LE', 'PD', 'POP', 'TotalHarm', 'gdp',\n",
       "       'gexp', 'gdpg', 'gr', 'pcg', 'Total', 'di', 'dic', 'td', 'dic2'],\n",
       "      dtype='object')"
      ]
     },
     "execution_count": 11,
     "metadata": {},
     "output_type": "execute_result"
    }
   ],
   "source": [
    "# Get the column names\n",
    "\n",
    "storm.columns"
   ]
  },
  {
   "cell_type": "code",
   "execution_count": 12,
   "id": "5ce9c583",
   "metadata": {},
   "outputs": [
    {
     "data": {
      "text/plain": [
       "(183, 18)"
      ]
     },
     "execution_count": 12,
     "metadata": {},
     "output_type": "execute_result"
    }
   ],
   "source": [
    "# Get the shape of storm\n",
    "\n",
    "storm.shape"
   ]
  },
  {
   "cell_type": "code",
   "execution_count": 13,
   "id": "5f7e6719",
   "metadata": {},
   "outputs": [
    {
     "data": {
      "text/plain": [
       "TDS          0\n",
       "TAS          0\n",
       "Country      0\n",
       "Year         0\n",
       "LE           0\n",
       "PD           0\n",
       "POP          0\n",
       "TotalHarm    0\n",
       "gdp          0\n",
       "gexp         0\n",
       "gdpg         0\n",
       "gr           0\n",
       "pcg          0\n",
       "Total        0\n",
       "di           0\n",
       "dic          0\n",
       "td           0\n",
       "dic2         0\n",
       "dtype: int64"
      ]
     },
     "execution_count": 13,
     "metadata": {},
     "output_type": "execute_result"
    }
   ],
   "source": [
    "# Check for any missing values\n",
    "\n",
    "storm.isnull().sum()"
   ]
  },
  {
   "cell_type": "code",
   "execution_count": 14,
   "id": "c5f2ff89",
   "metadata": {},
   "outputs": [
    {
     "data": {
      "text/plain": [
       "array(['Bangladesh', 'Bhutan', 'Cambodia', 'India', 'Indonesia',\n",
       "       'Iran, Islamic Rep.', 'Lao PDR', 'Malaysia', 'Myanmar', 'Nepal',\n",
       "       'Pakistan', 'Philippines', 'Sri Lanka', 'Thailand', 'Timor-Leste',\n",
       "       'Vietnam'], dtype=object)"
      ]
     },
     "execution_count": 14,
     "metadata": {},
     "output_type": "execute_result"
    }
   ],
   "source": [
    "# Check Unique Entries of the 'country' column\n",
    "\n",
    "storm['Country'].unique()"
   ]
  },
  {
   "cell_type": "code",
   "execution_count": 15,
   "id": "dbf14c03",
   "metadata": {},
   "outputs": [
    {
     "data": {
      "text/plain": [
       "array(['Bangladesh', 'Bhutan', 'India', 'Iran, Islamic Rep.', 'Nepal',\n",
       "       'Pakistan', 'Sri Lanka'], dtype=object)"
      ]
     },
     "execution_count": 15,
     "metadata": {},
     "output_type": "execute_result"
    }
   ],
   "source": [
    "# Now, in the study, I consider only 9 countries that fall under south Asia.\n",
    "# So, just keep 'India', 'Bangladesh', 'Pakistan', 'Sri Lanka', 'Maldives', 'Iran', 'Bhutan', 'Afghanistan' and 'Nepal'\n",
    "\n",
    "country_remove = ['Cambodia', 'Indonesia', 'Lao PDR', 'Malaysia', 'Myanmar', 'Philippines', 'Thailand','Timor-Leste', 'Vietnam']\n",
    "\n",
    "# Filter out the rows where 'Country' is in the list of countries to remove\n",
    "\n",
    "storm_filtered = storm[~ storm['Country'].isin(country_remove)]\n",
    "\n",
    "# Check the Current countries under consideration\n",
    "\n",
    "storm_filtered['Country'].unique()"
   ]
  },
  {
   "cell_type": "code",
   "execution_count": 16,
   "id": "be1405f3",
   "metadata": {},
   "outputs": [
    {
     "name": "stdout",
     "output_type": "stream",
     "text": [
      "Country\n",
      "Bangladesh            0.368923\n",
      "Bhutan                0.122254\n",
      "India                 0.050034\n",
      "Iran, Islamic Rep.    0.000067\n",
      "Nepal                 0.013757\n",
      "Pakistan              1.603563\n",
      "Sri Lanka             0.001979\n",
      "Name: di, dtype: float64\n"
     ]
    },
    {
     "data": {
      "image/png": "[encoded data removed]",
      "text/plain": [
       "<Figure size 640x480 with 1 Axes>"
      ]
     },
     "metadata": {},
     "output_type": "display_data"
    }
   ],
   "source": [
    "# Now, plot the total disaster intensity graph for this countries\n",
    "\n",
    "total_storm_di = storm_filtered.groupby('Country')['di'].sum()\n",
    "print(total_storm_di)\n",
    "total_storm_di.plot(kind = 'bar', color = 'red', width = 0.5)\n",
    "plt.xlabel('Country Names')\n",
    "plt.ylabel('Total Disaster Intensities')\n",
    "plt.title('Country Wise Storm Disaster Intensity')\n",
    "plt.xticks(rotation = 45)\n",
    "plt.show()"
   ]
  },
  {
   "cell_type": "markdown",
   "id": "b501d564",
   "metadata": {},
   "source": [
    "## EDA with flood data"
   ]
  },
  {
   "cell_type": "code",
   "execution_count": 17,
   "id": "64b233c6",
   "metadata": {},
   "outputs": [
    {
     "data": {
      "text/html": [
       "<div>\n",
       "<style scoped>\n",
       "    .dataframe tbody tr th:only-of-type {\n",
       "        vertical-align: middle;\n",
       "    }\n",
       "\n",
       "    .dataframe tbody tr th {\n",
       "        vertical-align: top;\n",
       "    }\n",
       "\n",
       "    .dataframe thead th {\n",
       "        text-align: right;\n",
       "    }\n",
       "</style>\n",
       "<table border=\"1\" class=\"dataframe\">\n",
       "  <thead>\n",
       "    <tr style=\"text-align: right;\">\n",
       "      <th></th>\n",
       "      <th>Country</th>\n",
       "      <th>Year</th>\n",
       "      <th>TD</th>\n",
       "      <th>TA</th>\n",
       "      <th>LE</th>\n",
       "      <th>PD</th>\n",
       "      <th>POP</th>\n",
       "      <th>Total</th>\n",
       "      <th>gdp</th>\n",
       "      <th>gexp</th>\n",
       "      <th>gdpg</th>\n",
       "      <th>gr</th>\n",
       "      <th>pcg</th>\n",
       "      <th>di</th>\n",
       "      <th>dic</th>\n",
       "      <th>td</th>\n",
       "      <th>dic2</th>\n",
       "    </tr>\n",
       "  </thead>\n",
       "  <tbody>\n",
       "    <tr>\n",
       "      <th>0</th>\n",
       "      <td>Bangladesh</td>\n",
       "      <td>1990</td>\n",
       "      <td>231</td>\n",
       "      <td>2011600</td>\n",
       "      <td>58.210</td>\n",
       "      <td>792.593962</td>\n",
       "      <td>103171956</td>\n",
       "      <td>2011831</td>\n",
       "      <td>306.268704</td>\n",
       "      <td>4.053250</td>\n",
       "      <td>0.071509</td>\n",
       "      <td>0.029996</td>\n",
       "      <td>3.086984</td>\n",
       "      <td>0.019500</td>\n",
       "      <td>1</td>\n",
       "      <td>232</td>\n",
       "      <td>1</td>\n",
       "    </tr>\n",
       "    <tr>\n",
       "      <th>1</th>\n",
       "      <td>Bangladesh</td>\n",
       "      <td>1991</td>\n",
       "      <td>265</td>\n",
       "      <td>2990000</td>\n",
       "      <td>58.891</td>\n",
       "      <td>811.240124</td>\n",
       "      <td>105599127</td>\n",
       "      <td>2990265</td>\n",
       "      <td>293.160416</td>\n",
       "      <td>4.136332</td>\n",
       "      <td>-0.042800</td>\n",
       "      <td>-0.018997</td>\n",
       "      <td>1.106644</td>\n",
       "      <td>0.028317</td>\n",
       "      <td>1</td>\n",
       "      <td>266</td>\n",
       "      <td>1</td>\n",
       "    </tr>\n",
       "    <tr>\n",
       "      <th>2</th>\n",
       "      <td>Bangladesh</td>\n",
       "      <td>1992</td>\n",
       "      <td>17</td>\n",
       "      <td>75200</td>\n",
       "      <td>59.618</td>\n",
       "      <td>829.559069</td>\n",
       "      <td>107983704</td>\n",
       "      <td>75217</td>\n",
       "      <td>293.644998</td>\n",
       "      <td>4.451222</td>\n",
       "      <td>0.001653</td>\n",
       "      <td>0.000717</td>\n",
       "      <td>3.114221</td>\n",
       "      <td>0.000697</td>\n",
       "      <td>0</td>\n",
       "      <td>18</td>\n",
       "      <td>1</td>\n",
       "    </tr>\n",
       "    <tr>\n",
       "      <th>3</th>\n",
       "      <td>Bangladesh</td>\n",
       "      <td>1993</td>\n",
       "      <td>194</td>\n",
       "      <td>15751613</td>\n",
       "      <td>60.388</td>\n",
       "      <td>847.742483</td>\n",
       "      <td>110350639</td>\n",
       "      <td>15751807</td>\n",
       "      <td>300.555753</td>\n",
       "      <td>4.953839</td>\n",
       "      <td>0.023534</td>\n",
       "      <td>0.010102</td>\n",
       "      <td>2.465581</td>\n",
       "      <td>0.142743</td>\n",
       "      <td>1</td>\n",
       "      <td>195</td>\n",
       "      <td>1</td>\n",
       "    </tr>\n",
       "    <tr>\n",
       "      <th>4</th>\n",
       "      <td>Bangladesh</td>\n",
       "      <td>1994</td>\n",
       "      <td>116</td>\n",
       "      <td>395100</td>\n",
       "      <td>61.190</td>\n",
       "      <td>866.080380</td>\n",
       "      <td>112737683</td>\n",
       "      <td>395216</td>\n",
       "      <td>299.533040</td>\n",
       "      <td>4.883159</td>\n",
       "      <td>-0.003403</td>\n",
       "      <td>-0.001480</td>\n",
       "      <td>1.690416</td>\n",
       "      <td>0.003506</td>\n",
       "      <td>0</td>\n",
       "      <td>117</td>\n",
       "      <td>1</td>\n",
       "    </tr>\n",
       "  </tbody>\n",
       "</table>\n",
       "</div>"
      ],
      "text/plain": [
       "      Country  Year   TD        TA      LE          PD        POP     Total  \\\n",
       "0  Bangladesh  1990  231   2011600  58.210  792.593962  103171956   2011831   \n",
       "1  Bangladesh  1991  265   2990000  58.891  811.240124  105599127   2990265   \n",
       "2  Bangladesh  1992   17     75200  59.618  829.559069  107983704     75217   \n",
       "3  Bangladesh  1993  194  15751613  60.388  847.742483  110350639  15751807   \n",
       "4  Bangladesh  1994  116    395100  61.190  866.080380  112737683    395216   \n",
       "\n",
       "          gdp      gexp      gdpg        gr       pcg        di  dic   td  \\\n",
       "0  306.268704  4.053250  0.071509  0.029996  3.086984  0.019500    1  232   \n",
       "1  293.160416  4.136332 -0.042800 -0.018997  1.106644  0.028317    1  266   \n",
       "2  293.644998  4.451222  0.001653  0.000717  3.114221  0.000697    0   18   \n",
       "3  300.555753  4.953839  0.023534  0.010102  2.465581  0.142743    1  195   \n",
       "4  299.533040  4.883159 -0.003403 -0.001480  1.690416  0.003506    0  117   \n",
       "\n",
       "   dic2  \n",
       "0     1  \n",
       "1     1  \n",
       "2     1  \n",
       "3     1  \n",
       "4     1  "
      ]
     },
     "execution_count": 17,
     "metadata": {},
     "output_type": "execute_result"
    }
   ],
   "source": [
    "# Get the first few rows of the flood data\n",
    "\n",
    "flood.head()"
   ]
  },
  {
   "cell_type": "code",
   "execution_count": 18,
   "id": "e4b58faa",
   "metadata": {},
   "outputs": [
    {
     "data": {
      "text/plain": [
       "Index(['Country', 'Year', 'TD', 'TA', 'LE', 'PD', 'POP', 'Total', 'gdp',\n",
       "       'gexp', 'gdpg', 'gr', 'pcg', 'di', 'dic', 'td', 'dic2'],\n",
       "      dtype='object')"
      ]
     },
     "execution_count": 18,
     "metadata": {},
     "output_type": "execute_result"
    }
   ],
   "source": [
    "# Get the Column names\n",
    "\n",
    "flood.columns"
   ]
  },
  {
   "cell_type": "code",
   "execution_count": 19,
   "id": "fd816321",
   "metadata": {},
   "outputs": [
    {
     "data": {
      "text/plain": [
       "(321, 17)"
      ]
     },
     "execution_count": 19,
     "metadata": {},
     "output_type": "execute_result"
    }
   ],
   "source": [
    "# Get the shape of the flood data\n",
    "\n",
    "flood.shape"
   ]
  },
  {
   "cell_type": "code",
   "execution_count": 20,
   "id": "1849a813",
   "metadata": {},
   "outputs": [
    {
     "data": {
      "text/plain": [
       "Country    0\n",
       "Year       0\n",
       "TD         0\n",
       "TA         0\n",
       "LE         0\n",
       "PD         0\n",
       "POP        0\n",
       "Total      0\n",
       "gdp        0\n",
       "gexp       0\n",
       "gdpg       0\n",
       "gr         0\n",
       "pcg        0\n",
       "di         0\n",
       "dic        0\n",
       "td         0\n",
       "dic2       0\n",
       "dtype: int64"
      ]
     },
     "execution_count": 20,
     "metadata": {},
     "output_type": "execute_result"
    }
   ],
   "source": [
    "# Get the number of missing values in flood data\n",
    "\n",
    "flood.isnull().sum()"
   ]
  },
  {
   "cell_type": "code",
   "execution_count": 21,
   "id": "bd798570",
   "metadata": {},
   "outputs": [
    {
     "data": {
      "text/plain": [
       "array(['Bangladesh', 'Bhutan', 'Cambodia', 'India', 'Indonesia',\n",
       "       'Iran, Islamic Rep.', 'Lao PDR', 'Malaysia', 'Myanmar', 'Nepal',\n",
       "       'Pakistan', 'Philippines', 'Sri Lanka', 'Thailand', 'Timor-Leste',\n",
       "       'Vietnam'], dtype=object)"
      ]
     },
     "execution_count": 21,
     "metadata": {},
     "output_type": "execute_result"
    }
   ],
   "source": [
    "# Get the Uniqye countries from the data\n",
    "\n",
    "flood['Country'].unique()"
   ]
  },
  {
   "cell_type": "code",
   "execution_count": 22,
   "id": "6f7502d3",
   "metadata": {},
   "outputs": [
    {
     "data": {
      "text/plain": [
       "array(['Bangladesh', 'Bhutan', 'India', 'Iran, Islamic Rep.', 'Nepal',\n",
       "       'Pakistan', 'Sri Lanka'], dtype=object)"
      ]
     },
     "execution_count": 22,
     "metadata": {},
     "output_type": "execute_result"
    }
   ],
   "source": [
    "# Extract the Information for the below 9 countries\n",
    "# 'India', 'Bangladesh', 'Pakistan', 'Sri Lanka', 'Maldives', 'Iran', 'Bhutan', 'Afghanistan' and 'Nepal'\n",
    "\n",
    "country_remove = ['Cambodia','Indonesia','Lao PDR','Malaysia','Myanmar','Philippines','Thailand','Timor-Leste','Vietnam']\n",
    "\n",
    "# Filter out the rows where 'Country' is in the list of countries to remove\n",
    "\n",
    "flood_filtered = flood[~ flood['Country'].isin(country_remove)]\n",
    "\n",
    "# Check the Current countries under consideration\n",
    "\n",
    "flood_filtered['Country'].unique()"
   ]
  },
  {
   "cell_type": "code",
   "execution_count": 23,
   "id": "db7f4bc8",
   "metadata": {},
   "outputs": [
    {
     "name": "stdout",
     "output_type": "stream",
     "text": [
      "Country\n",
      "Bangladesh            1.074156\n",
      "Bhutan                0.003200\n",
      "India                 0.584367\n",
      "Iran, Islamic Rep.    0.113839\n",
      "Nepal                 2.613369\n",
      "Pakistan              0.168420\n",
      "Sri Lanka             0.041879\n",
      "Name: di, dtype: float64\n"
     ]
    },
    {
     "data": {
      "image/png": "[encoded data removed]",
      "text/plain": [
       "<Figure size 640x480 with 1 Axes>"
      ]
     },
     "metadata": {},
     "output_type": "display_data"
    }
   ],
   "source": [
    "# Now, plot the total disaster intensity graph for this countries\n",
    "\n",
    "total_flood_di = flood_filtered.groupby('Country')['di'].sum()\n",
    "print(total_flood_di)\n",
    "total_flood_di.plot(kind = 'bar', color = 'red', width = 0.5)\n",
    "plt.xlabel('Country Names')\n",
    "plt.ylabel('Total Disaster Intensities')\n",
    "plt.title('Country Wise Flood Disaster Intensity')\n",
    "plt.xticks(rotation = 45)\n",
    "plt.show()"
   ]
  }
 ],
 "metadata": {
  "kernelspec": {
   "display_name": "Python 3 (ipykernel)",
   "language": "python",
   "name": "python3"
  },
  "language_info": {
   "codemirror_mode": {
    "name": "ipython",
    "version": 3
   },
   "file_extension": ".py",
   "mimetype": "text/x-python",
   "name": "python",
   "nbconvert_exporter": "python",
   "pygments_lexer": "ipython3",
   "version": "3.11.5"
  }
 },
 "nbformat": 4,
 "nbformat_minor": 5
}
