{
 "cells": [
  {
   "cell_type": "code",
   "execution_count": 1,
   "id": "f54f6cf6",
   "metadata": {},
   "outputs": [],
   "source": [
    "# Importing Packages\n",
    "\n",
    "import pandas as pd\n",
    "import numpy as np"
   ]
  },
  {
   "cell_type": "code",
   "execution_count": 3,
   "id": "60de07bf",
   "metadata": {},
   "outputs": [
    {
     "data": {
      "text/html": [
       "<div>\n",
       "<style scoped>\n",
       "    .dataframe tbody tr th:only-of-type {\n",
       "        vertical-align: middle;\n",
       "    }\n",
       "\n",
       "    .dataframe tbody tr th {\n",
       "        vertical-align: top;\n",
       "    }\n",
       "\n",
       "    .dataframe thead th {\n",
       "        text-align: right;\n",
       "    }\n",
       "</style>\n",
       "<table border=\"1\" class=\"dataframe\">\n",
       "  <thead>\n",
       "    <tr style=\"text-align: right;\">\n",
       "      <th></th>\n",
       "      <th>Year</th>\n",
       "      <th>Country</th>\n",
       "      <th>ISO</th>\n",
       "      <th>Disaster Type</th>\n",
       "      <th>Disaster Subtype</th>\n",
       "      <th>Location</th>\n",
       "      <th>Total Deaths</th>\n",
       "      <th>No. Injured</th>\n",
       "      <th>No. Homeless</th>\n",
       "      <th>Total Affected</th>\n",
       "    </tr>\n",
       "  </thead>\n",
       "  <tbody>\n",
       "    <tr>\n",
       "      <th>0</th>\n",
       "      <td>2000</td>\n",
       "      <td>India</td>\n",
       "      <td>IND</td>\n",
       "      <td>Flood</td>\n",
       "      <td>Flash flood</td>\n",
       "      <td>Arunachal_Pradesh,Assam,</td>\n",
       "      <td>20.0</td>\n",
       "      <td>NaN</td>\n",
       "      <td>3000000.0</td>\n",
       "      <td>3000000.0</td>\n",
       "    </tr>\n",
       "    <tr>\n",
       "      <th>1</th>\n",
       "      <td>2000</td>\n",
       "      <td>India</td>\n",
       "      <td>IND</td>\n",
       "      <td>Flood</td>\n",
       "      <td>Flash flood</td>\n",
       "      <td>Arunachal_Pradesh,</td>\n",
       "      <td>130.0</td>\n",
       "      <td>NaN</td>\n",
       "      <td>NaN</td>\n",
       "      <td>NaN</td>\n",
       "    </tr>\n",
       "    <tr>\n",
       "      <th>2</th>\n",
       "      <td>2000</td>\n",
       "      <td>India</td>\n",
       "      <td>IND</td>\n",
       "      <td>Flood</td>\n",
       "      <td>Riverine flood</td>\n",
       "      <td>Bihar,Himachal_Pradesh,West_Bengal,Uttarakhand...</td>\n",
       "      <td>867.0</td>\n",
       "      <td>NaN</td>\n",
       "      <td>22000000.0</td>\n",
       "      <td>22000000.0</td>\n",
       "    </tr>\n",
       "    <tr>\n",
       "      <th>3</th>\n",
       "      <td>2000</td>\n",
       "      <td>India</td>\n",
       "      <td>IND</td>\n",
       "      <td>Flood</td>\n",
       "      <td>Flash flood</td>\n",
       "      <td>Andhra_Pradesh,</td>\n",
       "      <td>179.0</td>\n",
       "      <td>16.0</td>\n",
       "      <td>NaN</td>\n",
       "      <td>252016.0</td>\n",
       "    </tr>\n",
       "    <tr>\n",
       "      <th>4</th>\n",
       "      <td>2000</td>\n",
       "      <td>India</td>\n",
       "      <td>IND</td>\n",
       "      <td>Flood</td>\n",
       "      <td>Riverine flood</td>\n",
       "      <td>West_Bengal,Jharkhand,Bihar,</td>\n",
       "      <td>884.0</td>\n",
       "      <td>NaN</td>\n",
       "      <td>24600000.0</td>\n",
       "      <td>24600000.0</td>\n",
       "    </tr>\n",
       "  </tbody>\n",
       "</table>\n",
       "</div>"
      ],
      "text/plain": [
       "   Year Country  ISO Disaster Type Disaster Subtype  \\\n",
       "0  2000   India  IND         Flood      Flash flood   \n",
       "1  2000   India  IND         Flood      Flash flood   \n",
       "2  2000   India  IND         Flood   Riverine flood   \n",
       "3  2000   India  IND         Flood      Flash flood   \n",
       "4  2000   India  IND         Flood   Riverine flood   \n",
       "\n",
       "                                            Location  Total Deaths  \\\n",
       "0                          Arunachal_Pradesh,Assam,           20.0   \n",
       "1                                 Arunachal_Pradesh,         130.0   \n",
       "2  Bihar,Himachal_Pradesh,West_Bengal,Uttarakhand...         867.0   \n",
       "3                                    Andhra_Pradesh,         179.0   \n",
       "4                       West_Bengal,Jharkhand,Bihar,         884.0   \n",
       "\n",
       "   No. Injured  No. Homeless  Total Affected  \n",
       "0          NaN     3000000.0       3000000.0  \n",
       "1          NaN           NaN             NaN  \n",
       "2          NaN    22000000.0      22000000.0  \n",
       "3         16.0           NaN        252016.0  \n",
       "4          NaN    24600000.0      24600000.0  "
      ]
     },
     "execution_count": 3,
     "metadata": {},
     "output_type": "execute_result"
    }
   ],
   "source": [
    "# Reading the India_Flood.csv data as flood_df\n",
    "flood_df = pd.read_csv('India_Flood.csv')\n",
    "flood_df.head()"
   ]
  },
  {
   "cell_type": "code",
   "execution_count": 5,
   "id": "f5c8e258",
   "metadata": {},
   "outputs": [
    {
     "data": {
      "text/plain": [
       "176"
      ]
     },
     "execution_count": 5,
     "metadata": {},
     "output_type": "execute_result"
    }
   ],
   "source": [
    "# Changing the Column 'Location' in list format\n",
    "\n",
    "location_list = flood_df['Location'].tolist()\n",
    "len(location_list)"
   ]
  },
  {
   "cell_type": "code",
   "execution_count": 6,
   "id": "fb8034fa",
   "metadata": {},
   "outputs": [
    {
     "data": {
      "text/plain": [
       "4782"
      ]
     },
     "execution_count": 6,
     "metadata": {},
     "output_type": "execute_result"
    }
   ],
   "source": [
    "# Joining the elements of the location_list\n",
    "\n",
    "join_location_list = ''.join(location_list)\n",
    "len(join_location_list)"
   ]
  },
  {
   "cell_type": "code",
   "execution_count": 7,
   "id": "9813791e",
   "metadata": {},
   "outputs": [
    {
     "name": "stdout",
     "output_type": "stream",
     "text": [
      "             StateName  Frequency\n",
      "0    Arunachal_Pradesh         15\n",
      "1                Assam         44\n",
      "2    Arunachal_Pradesh          1\n",
      "3                Bihar         27\n",
      "4     Himachal_Pradesh         20\n",
      "5          West_Bengal         27\n",
      "6          Uttarakhand         16\n",
      "7              Gujarat         26\n",
      "8       Andhra_Pradesh         20\n",
      "9       Madhya_Pradesh         17\n",
      "10              Punjab         10\n",
      "11       Uttar_Pradesh         36\n",
      "12         Maharashtra         22\n",
      "13           Rajasthan         16\n",
      "14          Chandigarh          1\n",
      "15              Kerala         18\n",
      "16           Jharkhand          5\n",
      "17             Tripura          7\n",
      "18              Odisha         26\n",
      "19        Chhattisgarh          6\n",
      "20           New_Delhi          3\n",
      "21           Meghalaya          6\n",
      "22             Manipur          7\n",
      "23         Maharashrta          1\n",
      "24          Tamil_Nadu         16\n",
      "25       Jammu_Kashmir         12\n",
      "26             Haryana          8\n",
      "27            Nagaland          4\n",
      "28                 Goa          3\n",
      "29           Karnataka         17\n",
      "30          Puducherry          4\n",
      "31              Ballia          1\n",
      "32           Daman_Diu          1\n",
      "33          Maharastra          1\n",
      "34              Sikkim          2\n",
      "35           Telangana          2\n",
      "36          Uttarakand          1\n",
      "37              Kerala          1\n",
      "38              Odisha          1\n",
      "39         Maharashtra          1\n",
      "40           Hyderabad          1\n",
      "41             Odisha           1\n"
     ]
    }
   ],
   "source": [
    "# Find Unique Regions and their counts\n",
    "\n",
    "from collections import Counter\n",
    "\n",
    "# Split the string by commas to get a list of words\n",
    "words_list = join_location_list.split(',')\n",
    "\n",
    "# Count the occurrences of each unique word\n",
    "word_counts = {}\n",
    "for word in words_list:\n",
    "    if word in word_counts:\n",
    "        word_counts[word] += 1\n",
    "    else:\n",
    "        word_counts[word] = 1\n",
    "\n",
    "# Create a DataFrame from the result\n",
    "flood_region = pd.DataFrame(list(word_counts.items()), columns=['StateName', 'Frequency'])\n",
    "\n",
    "print(flood_region)"
   ]
  },
  {
   "cell_type": "code",
   "execution_count": 8,
   "id": "65750e5c",
   "metadata": {},
   "outputs": [],
   "source": [
    "flood_region.to_csv('TestFloodArea.csv', index = False)"
   ]
  },
  {
   "cell_type": "code",
   "execution_count": null,
   "id": "c0254baf",
   "metadata": {},
   "outputs": [],
   "source": []
  }
 ],
 "metadata": {
  "kernelspec": {
   "display_name": "Python 3 (ipykernel)",
   "language": "python",
   "name": "python3"
  },
  "language_info": {
   "codemirror_mode": {
    "name": "ipython",
    "version": 3
   },
   "file_extension": ".py",
   "mimetype": "text/x-python",
   "name": "python",
   "nbconvert_exporter": "python",
   "pygments_lexer": "ipython3",
   "version": "3.11.5"
  }
 },
 "nbformat": 4,
 "nbformat_minor": 5
}
